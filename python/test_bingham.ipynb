{
 "cells": [
  {
   "cell_type": "code",
   "execution_count": null,
   "id": "4e181983",
   "metadata": {},
   "outputs": [],
   "source": [
    "import pybingham\n",
    "import numpy as np\n",
    "from pyquaternion import Quaternion\n",
    "\n",
    "%matplotlib notebook"
   ]
  },
  {
   "cell_type": "code",
   "execution_count": null,
   "id": "9e0fdcc7",
   "metadata": {},
   "outputs": [],
   "source": [
    "def get_random_quats(n_samples=100, dist_threshold=0.2, origin=Quaternion(1, 0, 0, 0)):\n",
    "    X = []\n",
    "    while len(X) < n_samples:\n",
    "        q = Quaternion.random()\n",
    "        dist = Quaternion.distance(origin, q)\n",
    "        if dist < dist_threshold:\n",
    "            X.append(q.elements)\n",
    "    return np.stack(X)"
   ]
  },
  {
   "cell_type": "code",
   "execution_count": null,
   "id": "0474dc73",
   "metadata": {},
   "outputs": [],
   "source": [
    "print(\"\\nGetting random quaternions to fit distributions with...\")\n",
    "X1 = get_random_quats()\n",
    "X2 = get_random_quats()\n",
    "print(\"Sample generation complete\")\n",
    "\n",
    "b1 = pybingham.Bingham()\n",
    "b1.fit(X1)\n",
    "b2 = pybingham.Bingham()\n",
    "b2.fit(X2)\n",
    "\n",
    "print(\"B1 PDF\", b1.pdf(np.array([1,0,0,0], dtype=np.double)))\n",
    "print(\"B2 PDF\", b2.pdf(np.array([1,0,0,0], dtype=np.double)))\n",
    "print(\"CE\", pybingham.bingham_cross_entropy(b1, b2))\n",
    "print(\"KL\", pybingham.bingham_kl_divergence(b1, b2))\n",
    "print(\"ENTROPY\", b2.entropy)\n",
    "print(\"MODE\", b2.mode)\n",
    "print(\"3 SAMPLES:\", b2.sample(3))"
   ]
  },
  {
   "cell_type": "code",
   "execution_count": null,
   "id": "12cd4079",
   "metadata": {},
   "outputs": [],
   "source": [
    "print(\"Drawing...\")\n",
    "b2.draw(surface_alpha=0.2)"
   ]
  },
  {
   "cell_type": "code",
   "execution_count": null,
   "id": "6f86f9e0",
   "metadata": {},
   "outputs": [],
   "source": [
    "import matplotlib.pyplot as plt\n",
    "plt.savefig('test.png', bbox_inches='tight', dpi=400)"
   ]
  }
 ],
 "metadata": {
  "kernelspec": {
   "display_name": "Python 3 (ipykernel)",
   "language": "python",
   "name": "python3"
  },
  "language_info": {
   "codemirror_mode": {
    "name": "ipython",
    "version": 3
   },
   "file_extension": ".py",
   "mimetype": "text/x-python",
   "name": "python",
   "nbconvert_exporter": "python",
   "pygments_lexer": "ipython3",
   "version": "3.8.12"
  }
 },
 "nbformat": 4,
 "nbformat_minor": 5
}
